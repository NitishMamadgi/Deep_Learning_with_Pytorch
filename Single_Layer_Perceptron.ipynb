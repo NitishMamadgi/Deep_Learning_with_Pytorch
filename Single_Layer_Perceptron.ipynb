{
  "nbformat": 4,
  "nbformat_minor": 0,
  "metadata": {
    "colab": {
      "provenance": [],
      "authorship_tag": "ABX9TyMy6LnVsh/CLDPk2YWpzHtL",
      "include_colab_link": true
    },
    "kernelspec": {
      "name": "python3",
      "display_name": "Python 3"
    },
    "language_info": {
      "name": "python"
    }
  },
  "cells": [
    {
      "cell_type": "markdown",
      "metadata": {
        "id": "view-in-github",
        "colab_type": "text"
      },
      "source": [
        "<a href=\"https://colab.research.google.com/github/NitishMamadgi/Deep_Learning_with_Pytorch/blob/main/Single_Layer_Perceptron.ipynb\" target=\"_parent\"><img src=\"https://colab.research.google.com/assets/colab-badge.svg\" alt=\"Open In Colab\"/></a>"
      ]
    },
    {
      "cell_type": "markdown",
      "source": [
        "### **Implement Single Layer Perceptron in PyTorch.**\n",
        "1. Define model -- initialisation and forward methods\n",
        "3. Training Loop\n",
        "  - Training Data\n",
        "  - Initialize==> model, loss function, and optimizer\n",
        "  - Traning ==> For each epoch compute the --> output, loss, gradients, and update weights\n",
        "  - Evaluation\n"
      ],
      "metadata": {
        "id": "CyrzoR7Eg-HL"
      }
    },
    {
      "cell_type": "markdown",
      "source": [
        "**Problem Statement:**\n",
        "Implement and train a single-layer perceptron to perform binary classification on a simple logical operation.\n",
        "\n",
        "**Dataset:**\n",
        "The dataset consists of binary inputs and their corresponding outputs based on the AND logical operation."
      ],
      "metadata": {
        "id": "3ykr0VfjkeEd"
      }
    },
    {
      "cell_type": "code",
      "source": [
        "import torch\n",
        "import torch.nn as nn\n",
        "import torch.optim as optim\n",
        "import torch.nn.functional as F"
      ],
      "metadata": {
        "id": "z9x6DXxBhKEb"
      },
      "execution_count": 1,
      "outputs": []
    },
    {
      "cell_type": "code",
      "source": [
        "class SingleLayerPerceptron(nn.Module):\n",
        "  def __init__(self, input_size):\n",
        "    super(SingleLayerPerceptron, self).__init__()\n",
        "    self.fc = nn.Linear(input_size, 1)\n",
        "\n",
        "  def forward(self, x):\n",
        "    return torch.sigmoid(self.fc(x))"
      ],
      "metadata": {
        "id": "dw1Jc94TjAvp"
      },
      "execution_count": 2,
      "outputs": []
    },
    {
      "cell_type": "code",
      "source": [],
      "metadata": {
        "id": "gV1DqmKpj8zH"
      },
      "execution_count": null,
      "outputs": []
    }
  ]
}