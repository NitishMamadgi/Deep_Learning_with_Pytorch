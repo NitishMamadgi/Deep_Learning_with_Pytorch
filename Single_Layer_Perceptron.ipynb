{
  "nbformat": 4,
  "nbformat_minor": 0,
  "metadata": {
    "colab": {
      "provenance": [],
      "authorship_tag": "ABX9TyMMjKLJWDZ+DDSDiMtj1ZRd",
      "include_colab_link": true
    },
    "kernelspec": {
      "name": "python3",
      "display_name": "Python 3"
    },
    "language_info": {
      "name": "python"
    }
  },
  "cells": [
    {
      "cell_type": "markdown",
      "metadata": {
        "id": "view-in-github",
        "colab_type": "text"
      },
      "source": [
        "<a href=\"https://colab.research.google.com/github/NitishMamadgi/Deep_Learning_with_Pytorch/blob/main/Single_Layer_Perceptron.ipynb\" target=\"_parent\"><img src=\"https://colab.research.google.com/assets/colab-badge.svg\" alt=\"Open In Colab\"/></a>"
      ]
    },
    {
      "cell_type": "markdown",
      "source": [
        "### **Implement Single Layer Perceptron in PyTorch.**\n",
        "1. Define model -- initialisation and forward methods\n",
        "3. Training Loop\n",
        "  - Training Data\n",
        "  - Initialize==>a) model, b) loss function, and c) optimizer\n",
        "  - Traning ==> For each epoch compute the --> a) output, b) loss, c) gradients, and d) update weights\n",
        "4. Evaluation\n"
      ],
      "metadata": {
        "id": "CyrzoR7Eg-HL"
      }
    },
    {
      "cell_type": "markdown",
      "source": [
        "**Problem Statement:**\n",
        "Implement and train a single-layer perceptron to perform binary classification on a simple logical operation.\n",
        "\n",
        "**Dataset:**\n",
        "The dataset consists of binary inputs and their corresponding outputs based on the AND logical operation."
      ],
      "metadata": {
        "id": "3ykr0VfjkeEd"
      }
    },
    {
      "cell_type": "code",
      "source": [
        "from google.colab import drive\n",
        "drive.mount('/content/drive')"
      ],
      "metadata": {
        "colab": {
          "base_uri": "https://localhost:8080/"
        },
        "id": "Cdb95A5jKQ3A",
        "outputId": "3ca50768-0b4a-415b-d751-e92a7402bbaf",
        "collapsed": true
      },
      "execution_count": 1,
      "outputs": [
        {
          "output_type": "stream",
          "name": "stdout",
          "text": [
            "Drive already mounted at /content/drive; to attempt to forcibly remount, call drive.mount(\"/content/drive\", force_remount=True).\n"
          ]
        }
      ]
    },
    {
      "cell_type": "code",
      "source": [
        "import torch\n",
        "import torch.nn as nn\n",
        "import torch.optim as optim\n",
        "import torch.nn.functional as F\n",
        "\n",
        "import pandas as pd"
      ],
      "metadata": {
        "id": "z9x6DXxBhKEb"
      },
      "execution_count": 2,
      "outputs": []
    },
    {
      "cell_type": "code",
      "source": [
        "class SingleLayerPerceptron(nn.Module):\n",
        "  def __init__(self, input_size):\n",
        "    super(SingleLayerPerceptron, self).__init__()\n",
        "    self.fc = nn.Linear(input_size, 1)\n",
        "\n",
        "  def forward(self, x):\n",
        "    return torch.sigmoid(self.fc(x))"
      ],
      "metadata": {
        "id": "dw1Jc94TjAvp"
      },
      "execution_count": 3,
      "outputs": []
    },
    {
      "cell_type": "code",
      "source": [
        "df = pd.read_csv(r'/content/drive/MyDrive/Datasets/AND_gate_dataset.csv')\n",
        "print(df)"
      ],
      "metadata": {
        "id": "Pqg6zb1uK0lP",
        "colab": {
          "base_uri": "https://localhost:8080/"
        },
        "collapsed": true,
        "outputId": "b77e0c39-a992-4b52-da0c-07f4657f978a"
      },
      "execution_count": 4,
      "outputs": [
        {
          "output_type": "stream",
          "name": "stdout",
          "text": [
            "   Input 1  Input 2  Output (AND)\n",
            "0        0        0             0\n",
            "1        0        1             0\n",
            "2        1        0             0\n",
            "3        1        1             1\n"
          ]
        }
      ]
    },
    {
      "cell_type": "code",
      "source": [
        "# @title\n",
        "inputs = torch.tensor(df.iloc[:,:2].values, dtype=torch.float32)\n",
        "labels = torch.tensor(df.iloc[:,2].values, dtype=torch.float32).unsqueeze(1)\n",
        "print(inputs)\n",
        "print(labels)"
      ],
      "metadata": {
        "colab": {
          "base_uri": "https://localhost:8080/"
        },
        "collapsed": true,
        "id": "vQxYfVapR-ll",
        "outputId": "16584058-474c-47d3-b38c-dc7c452e5680"
      },
      "execution_count": 5,
      "outputs": [
        {
          "output_type": "stream",
          "name": "stdout",
          "text": [
            "tensor([[0., 0.],\n",
            "        [0., 1.],\n",
            "        [1., 0.],\n",
            "        [1., 1.]])\n",
            "tensor([[0.],\n",
            "        [0.],\n",
            "        [0.],\n",
            "        [1.]])\n"
          ]
        }
      ]
    },
    {
      "cell_type": "code",
      "source": [
        "input_size = inputs.shape[1]\n",
        "perceptron = SingleLayerPerceptron(input_size)\n",
        "criterion = nn.BCEWithLogitsLoss()\n",
        "optimizer = optim.SGD(perceptron.parameters(), lr=0.1)"
      ],
      "metadata": {
        "id": "AKw93Uf-Ug2V"
      },
      "execution_count": 6,
      "outputs": []
    },
    {
      "cell_type": "code",
      "source": [
        "num_epochs = 1000\n",
        "for epoch in range(num_epochs):\n",
        "  optimizer.zero_grad()\n",
        "  outputs = perceptron(inputs)\n",
        "  loss = criterion(outputs, labels)\n",
        "  loss.backward()\n",
        "  optimizer.step()\n",
        "\n",
        "  if (epoch+1)%100 == 0:\n",
        "    print(f'Epoch [{epoch+1}/{num_epochs}], Loss: {loss.item():.4f}')\n",
        ""
      ],
      "metadata": {
        "colab": {
          "base_uri": "https://localhost:8080/"
        },
        "collapsed": true,
        "id": "Yh_So7tKYRog",
        "outputId": "ac9eee1c-14e0-45bd-9c8c-11c6a5b49946"
      },
      "execution_count": 7,
      "outputs": [
        {
          "output_type": "stream",
          "name": "stdout",
          "text": [
            "Epoch [100/1000], Loss: 0.7857\n",
            "Epoch [200/1000], Loss: 0.7501\n",
            "Epoch [300/1000], Loss: 0.7324\n",
            "Epoch [400/1000], Loss: 0.7225\n",
            "Epoch [500/1000], Loss: 0.7164\n",
            "Epoch [600/1000], Loss: 0.7123\n",
            "Epoch [700/1000], Loss: 0.7093\n",
            "Epoch [800/1000], Loss: 0.7072\n",
            "Epoch [900/1000], Loss: 0.7055\n",
            "Epoch [1000/1000], Loss: 0.7042\n"
          ]
        }
      ]
    },
    {
      "cell_type": "code",
      "source": [
        "\n"
      ],
      "metadata": {
        "id": "nc1rljObfc7o"
      },
      "execution_count": null,
      "outputs": []
    }
  ]
}